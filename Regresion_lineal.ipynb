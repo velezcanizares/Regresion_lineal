{
  "nbformat": 4,
  "nbformat_minor": 0,
  "metadata": {
    "colab": {
      "provenance": [],
      "authorship_tag": "ABX9TyPqworM+rdiW0FCTFtmjTqG",
      "include_colab_link": true
    },
    "kernelspec": {
      "name": "python3",
      "display_name": "Python 3"
    },
    "language_info": {
      "name": "python"
    }
  },
  "cells": [
    {
      "cell_type": "markdown",
      "metadata": {
        "id": "view-in-github",
        "colab_type": "text"
      },
      "source": [
        "<a href=\"https://colab.research.google.com/github/velezcanizares/Regresion_lineal/blob/main/Regresion_lineal.ipynb\" target=\"_parent\"><img src=\"https://colab.research.google.com/assets/colab-badge.svg\" alt=\"Open In Colab\"/></a>"
      ]
    },
    {
      "cell_type": "code",
      "execution_count": 4,
      "metadata": {
        "id": "FE2Ox8ni8cIc"
      },
      "outputs": [],
      "source": [
        "import pandas as pd\n",
        "import numpy as np\n",
        "from sklearn import datasets, linear_model\n",
        "from sklearn.metrics import mean_squared_error, r2_score\n",
        "import matplotlib.pyplot as plt\n",
        "\n",
        "df = pd.read_csv(\"/content/base_datos_2008.csv-1\")"
      ]
    },
    {
      "cell_type": "code",
      "source": [
        "df = df.dropna(subset = [\"ArrDelay\"])\n",
        "df = df.sample(frac=1).head(100000)\n",
        "Y = df[\"ArrDelay\"]\n",
        "X = df[[\"DepDelay\"]]"
      ],
      "metadata": {
        "id": "Cnn4UEKS9do6"
      },
      "execution_count": 5,
      "outputs": []
    },
    {
      "cell_type": "code",
      "source": [
        "df.columns"
      ],
      "metadata": {
        "colab": {
          "base_uri": "https://localhost:8080/"
        },
        "id": "pDuaALM8-JaB",
        "outputId": "9e1df61f-882a-47a6-9bc6-ac71dc9e1fe5"
      },
      "execution_count": 6,
      "outputs": [
        {
          "output_type": "execute_result",
          "data": {
            "text/plain": [
              "Index(['Year', 'Month', 'DayofMonth', 'DayOfWeek', 'DepTime', 'CRSDepTime',\n",
              "       'ArrTime', 'CRSArrTime', 'UniqueCarrier', 'FlightNum', 'TailNum',\n",
              "       'ActualElapsedTime', 'CRSElapsedTime', 'AirTime', 'ArrDelay',\n",
              "       'DepDelay', 'Origin', 'Dest', 'Distance', 'TaxiIn', 'TaxiOut',\n",
              "       'Cancelled', 'CancellationCode', 'Diverted', 'CarrierDelay',\n",
              "       'WeatherDelay', 'NASDelay', 'SecurityDelay', 'LateAircraftDelay'],\n",
              "      dtype='object')"
            ]
          },
          "metadata": {},
          "execution_count": 6
        }
      ]
    },
    {
      "cell_type": "code",
      "source": [
        "X = df[['AirTime','Distance','TaxiIn', 'TaxiOut']]\n",
        "\n",
        "df[\"Month\"]= df[\"Month\"].apply(str)\n",
        "df['DayOfWeek']= df['DayOfWeek'].apply(str)\n",
        "df['DayofMonth']= df['DayofMonth'].apply(str)\n",
        "\n",
        "dummies = pd.get_dummies(data=df[[\"Month\",\"DayofMonth\",\"DayOfWeek\",'Origin', 'Dest']])\n",
        "X = dummies.add(X,fill_value=0)"
      ],
      "metadata": {
        "id": "5VPap3Lt-jY3"
      },
      "execution_count": 9,
      "outputs": []
    },
    {
      "cell_type": "code",
      "source": [
        "X.columns"
      ],
      "metadata": {
        "colab": {
          "base_uri": "https://localhost:8080/"
        },
        "id": "co6skiweAHLD",
        "outputId": "0a1be0e0-7451-47ac-fa59-cc64dbbea012"
      },
      "execution_count": 10,
      "outputs": [
        {
          "output_type": "execute_result",
          "data": {
            "text/plain": [
              "Index(['AirTime', 'DayOfWeek_1', 'DayOfWeek_2', 'DayOfWeek_3', 'DayOfWeek_4',\n",
              "       'DayOfWeek_5', 'DayOfWeek_6', 'DayOfWeek_7', 'DayofMonth_10',\n",
              "       'DayofMonth_11',\n",
              "       ...\n",
              "       'Origin_SJC', 'Origin_SLC', 'Origin_SMF', 'Origin_SNA', 'Origin_STL',\n",
              "       'Origin_TPA', 'Origin_TUL', 'Origin_TUS', 'TaxiIn', 'TaxiOut'],\n",
              "      dtype='object', length=164)"
            ]
          },
          "metadata": {},
          "execution_count": 10
        }
      ]
    },
    {
      "cell_type": "code",
      "source": [
        "regr = linear_model.LinearRegression()\n",
        "regr.fit(X,Y)\n",
        "\n",
        "#print(\"Coeficientes: \",regr.coef_)\n",
        "Y_pred = regr.predict(X)\n",
        "print(\"R cuadrado: \",r2_score(Y,Y_pred))"
      ],
      "metadata": {
        "colab": {
          "base_uri": "https://localhost:8080/"
        },
        "id": "GLHdnox4AKiA",
        "outputId": "48d4dab6-7c93-453f-a07f-c914dcfcaffd"
      },
      "execution_count": 12,
      "outputs": [
        {
          "output_type": "stream",
          "name": "stdout",
          "text": [
            "R cuadrado:  0.25102391500703414\n"
          ]
        }
      ]
    },
    {
      "cell_type": "code",
      "source": [
        "X = X.add(df[[\"DepDelay\"]],fill_value=0)"
      ],
      "metadata": {
        "id": "iDFiTdEvBYOG"
      },
      "execution_count": 13,
      "outputs": []
    },
    {
      "cell_type": "code",
      "source": [
        "regr = linear_model.LinearRegression()\n",
        "regr.fit(X,Y)\n",
        "\n",
        "#print(\"Coeficientes: \",regr.coef_)\n",
        "Y_pred = regr.predict(X)\n",
        "print(\"R cuadrado: \",r2_score(Y,Y_pred))"
      ],
      "metadata": {
        "colab": {
          "base_uri": "https://localhost:8080/"
        },
        "id": "bTIySXLABnsi",
        "outputId": "1b262c60-04fb-4e4c-df96-01018b4ea432"
      },
      "execution_count": 14,
      "outputs": [
        {
          "output_type": "stream",
          "name": "stdout",
          "text": [
            "R cuadrado:  0.9778413160773127\n"
          ]
        }
      ]
    }
  ]
}